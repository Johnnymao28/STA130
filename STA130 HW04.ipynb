{
 "cells": [
  {
   "cell_type": "markdown",
   "id": "78016ff9",
   "metadata": {},
   "source": [
    "# Prelecture HW"
   ]
  },
  {
   "cell_type": "markdown",
   "id": "10c11ede",
   "metadata": {},
   "source": [
    "## Question 1"
   ]
  },
  {
   "cell_type": "markdown",
   "id": "498b9265",
   "metadata": {},
   "source": [
    "##### The difference between the standard deviation and the standard error of the mean lies in the fact that the standard deviation compares individual data points in the original dataset to the overall mean, reflecting the degree of dispersion in the data. In contrast, the standard error of the mean compares the sample mean to the overall population mean, indicating the accuracy of the sample mean. A smaller standard error of the mean suggests that the sample mean is closer to the population mean."
   ]
  },
  {
   "cell_type": "code",
   "execution_count": 1,
   "id": "33f22776",
   "metadata": {},
   "outputs": [
    {
     "name": "stdout",
     "output_type": "stream",
     "text": [
      "{'topic': 'Difference between Standard Error of the Mean and Standard Deviation', 'key_points': {'Standard Deviation (SD)': 'Measures the spread or variability of the original data points in a dataset.', 'Standard Error of the Mean (SEM)': 'Measures the accuracy with which the sample mean represents the population mean.', 'Formula for SD': 'SD = sqrt((1/N) * Σ(xi - μ)^2)', 'Formula for SEM': 'SEM = SD / sqrt(N)', 'Differences': {'Purpose': 'SD shows variability of data points, SEM shows precision of the sample mean.', 'Magnitude': 'SEM is smaller than SD and decreases with larger sample size.', 'Context': 'SD is used for data variability, SEM for sample mean accuracy.'}}}\n"
     ]
    }
   ],
   "source": [
    "#Chat summary with ChatGPT\n",
    "chat_summary = {\n",
    "    \"topic\": \"Difference between Standard Error of the Mean and Standard Deviation\",\n",
    "    \"key_points\": {\n",
    "        \"Standard Deviation (SD)\": \"Measures the spread or variability of the original data points in a dataset.\",\n",
    "        \"Standard Error of the Mean (SEM)\": \"Measures the accuracy with which the sample mean represents the population mean.\",\n",
    "        \"Formula for SD\": \"SD = sqrt((1/N) * Σ(xi - μ)^2)\",\n",
    "        \"Formula for SEM\": \"SEM = SD / sqrt(N)\",\n",
    "        \"Differences\": {\n",
    "            \"Purpose\": \"SD shows variability of data points, SEM shows precision of the sample mean.\",\n",
    "            \"Magnitude\": \"SEM is smaller than SD and decreases with larger sample size.\",\n",
    "            \"Context\": \"SD is used for data variability, SEM for sample mean accuracy.\"\n",
    "        }\n",
    "    }\n",
    "}\n",
    "\n",
    "print(chat_summary)"
   ]
  },
  {
   "cell_type": "markdown",
   "id": "9824c859",
   "metadata": {},
   "source": [
    "link: https://chatgpt.com/share/66fcd132-6d5c-800d-9b02-57179868ec9c "
   ]
  },
  {
   "cell_type": "markdown",
   "id": "89b77ad5",
   "metadata": {},
   "source": [
    "## Question 2"
   ]
  },
  {
   "cell_type": "code",
   "execution_count": null,
   "id": "8c5c804e",
   "metadata": {},
   "outputs": [],
   "source": [
    "import numpy as np\n",
    "import scipy.stats as stats\n",
    "\n",
    "# Example dataset (you can replace this with your own data)\n",
    "data = [60, 61, 62, 63, 64, 65, 66, 67, 68, 69]\n",
    "\n",
    "# Step 1: Calculate the sample mean\n",
    "sample_mean = np.mean(data)\n",
    "\n",
    "# Step 2: Calculate the standard deviation of the sample\n",
    "sample_std = np.std(data, ddof=1)  # ddof=1 to get the sample standard deviation (Bessel's correction)\n",
    "\n",
    "# Step 3: Calculate the sample size\n",
    "n = len(data)\n",
    "\n",
    "# Step 4: Calculate the Standard Error of the Mean (SEM)\n",
    "sem = sample_std / np.sqrt(n)\n",
    "\n",
    "# Step 5: Calculate the 95% confidence interval\n",
    "confidence_level = 0.95\n",
    "z_score = stats.norm.ppf(1 - (1 - confidence_level) / 2)  # z-score for 95% confidence interval, 1.96\n",
    "\n",
    "# Calculate the margin of error\n",
    "margin_of_error = z_score * sem\n",
    "\n",
    "# Calculate the confidence interval\n",
    "ci_lower = sample_mean - margin_of_error\n",
    "ci_upper = sample_mean + margin_of_error\n",
    "\n",
    "# Display the results\n",
    "print(f\"Sample Mean: {sample_mean}\")\n",
    "print(f\"Standard Error of the Mean (SEM): {sem}\")\n",
    "print(f\"95% Confidence Interval: [{ci_lower}, {ci_upper}]\")"
   ]
  },
  {
   "cell_type": "markdown",
   "id": "9f9e9e3e",
   "metadata": {},
   "source": [
    "### Procedure"
   ]
  },
  {
   "cell_type": "markdown",
   "id": "3d07235e",
   "metadata": {},
   "source": [
    "#### 1.Collect sample data: collecting sample data from the original dataset."
   ]
  },
  {
   "cell_type": "markdown",
   "id": "2972561b",
   "metadata": {},
   "source": [
    "#### 2.Calculate the Sample Mean, Sample Standard Deviation, Sample Size."
   ]
  },
  {
   "cell_type": "markdown",
   "id": "a07372a0",
   "metadata": {},
   "source": [
    "#### 3.Calculate the Standard Error of the Mean (SEM): The SEM can be calculated using the sample standard deviation and sample size."
   ]
  },
  {
   "cell_type": "markdown",
   "id": "2ecb4b78",
   "metadata": {},
   "source": [
    "#### 4.Choose a confidence level: Usually using 95%."
   ]
  },
  {
   "cell_type": "markdown",
   "id": "32dd5922",
   "metadata": {},
   "source": [
    "#### 5.Find the Critical Value(z-score or t-score):Use z-score for large samples (𝑛≥30) with known population standard deviation, and use t-score for small samples (𝑛<30) or when the population standard deviation is unknown."
   ]
  },
  {
   "cell_type": "markdown",
   "id": "9d4a5b53",
   "metadata": {},
   "source": [
    "#### 6.Calculate the Margin of Error:The margin of error is the product of the critical value (z-score or t-score) and the SEM."
   ]
  },
  {
   "cell_type": "markdown",
   "id": "102e3a60",
   "metadata": {},
   "source": [
    "#### 7.Construct the Confidence Interval:The confidence interval is calculated by adding and subtracting the margin of error from the sample mean."
   ]
  },
  {
   "cell_type": "markdown",
   "id": "368f6481",
   "metadata": {},
   "source": [
    "### Reason"
   ]
  },
  {
   "cell_type": "markdown",
   "id": "40246d24",
   "metadata": {},
   "source": [
    "#### Since bootstrapping generates a series of samples, we calculate the sample means from these. By sorting these sample means in ascending order, the 2.5th percentile and the 97.5th percentile of the sample means represent the range of the 95% confidence interval we are looking for. According to the Central Limit Theorem, we can infer that the distribution of these sample means approximates a normal distribution. Due to the characteristics of the normal distribution, 95% of the data values fall within two standard deviations of the center. The standard deviation of the sample means is the SEM, which is why we add and subtract approximately two SEMs from the sample mean when generating the 95% confidence interval."
   ]
  },
  {
   "cell_type": "code",
   "execution_count": 1,
   "id": "8c523804",
   "metadata": {},
   "outputs": [
    {
     "name": "stdout",
     "output_type": "stream",
     "text": [
      "\n",
      "    1. SEM and Confidence Interval:\n",
      "       - We discussed how to create a 95% confidence interval using the Standard Error of the Mean (SEM).\n",
      "       - SEM is used to calculate the precision of the sample mean and is combined with a critical value (like 1.96 for 95% confidence) to construct the confidence interval.\n",
      "       - The formula for the confidence interval is:\n",
      "         CI = sample_mean ± (critical_value * SEM)\n",
      "       - Python code was provided to calculate the confidence interval using SEM, where the margin of error was determined based on SEM and the z-score.\n",
      "       - The connection between SEM and confidence intervals was explained: smaller SEM results in narrower confidence intervals, indicating higher precision.\n",
      "\n",
      "    2. Percentile-based Confidence Interval (Bootstrapping):\n",
      "       - You explained the bootstrapping method to generate a 95% confidence interval by sorting the bootstrapped sample means and selecting the 2.5th and 97.5th percentiles as bounds.\n",
      "       - We discussed the comparison between the SEM-based method and the percentile-based method:\n",
      "         - The SEM-based method assumes normality of the distribution, whereas bootstrapping makes no such assumptions.\n",
      "         - Both methods provide an estimate of the population mean, but differ in assumptions and calculation.\n",
      "    \n",
      "    3. Central Limit Theorem (CLT):\n",
      "       - We discussed the Central Limit Theorem (CLT), which states that the distribution of sample means tends to become normally distributed as the sample size increases, regardless of the population's original distribution.\n",
      "       - The CLT justifies the use of normal-based confidence intervals when the sample size is large, even if the underlying population data is non-normal.\n",
      "\n",
      "    This summary provides a high-level overview of the key topics we discussed during the chat.\n",
      "    \n"
     ]
    }
   ],
   "source": [
    "#Chat summary with ChatGPT\n",
    "def chat_summary():\n",
    "    summary = \"\"\"\n",
    "    1. SEM and Confidence Interval:\n",
    "       - We discussed how to create a 95% confidence interval using the Standard Error of the Mean (SEM).\n",
    "       - SEM is used to calculate the precision of the sample mean and is combined with a critical value (like 1.96 for 95% confidence) to construct the confidence interval.\n",
    "       - The formula for the confidence interval is:\n",
    "         CI = sample_mean ± (critical_value * SEM)\n",
    "       - Python code was provided to calculate the confidence interval using SEM, where the margin of error was determined based on SEM and the z-score.\n",
    "       - The connection between SEM and confidence intervals was explained: smaller SEM results in narrower confidence intervals, indicating higher precision.\n",
    "\n",
    "    2. Percentile-based Confidence Interval (Bootstrapping):\n",
    "       - You explained the bootstrapping method to generate a 95% confidence interval by sorting the bootstrapped sample means and selecting the 2.5th and 97.5th percentiles as bounds.\n",
    "       - We discussed the comparison between the SEM-based method and the percentile-based method:\n",
    "         - The SEM-based method assumes normality of the distribution, whereas bootstrapping makes no such assumptions.\n",
    "         - Both methods provide an estimate of the population mean, but differ in assumptions and calculation.\n",
    "    \n",
    "    3. Central Limit Theorem (CLT):\n",
    "       - We discussed the Central Limit Theorem (CLT), which states that the distribution of sample means tends to become normally distributed as the sample size increases, regardless of the population's original distribution.\n",
    "       - The CLT justifies the use of normal-based confidence intervals when the sample size is large, even if the underlying population data is non-normal.\n",
    "\n",
    "    This summary provides a high-level overview of the key topics we discussed during the chat.\n",
    "    \"\"\"\n",
    "    return summary\n",
    "\n",
    "# Print the summary\n",
    "print(chat_summary())"
   ]
  },
  {
   "cell_type": "markdown",
   "id": "cb0a5389",
   "metadata": {},
   "source": [
    "link: https://chatgpt.com/share/66fda18f-c260-800d-9a4e-8388e0b2f1d8"
   ]
  },
  {
   "cell_type": "markdown",
   "id": "1179221e",
   "metadata": {},
   "source": [
    "## Question 3"
   ]
  },
  {
   "cell_type": "code",
   "execution_count": null,
   "id": "8a243f6f",
   "metadata": {},
   "outputs": [],
   "source": [
    "import numpy as np\n",
    "\n",
    "# Original data\n",
    "data = np.array([your_data])\n",
    "\n",
    "# Number of bootstrap samples\n",
    "n_bootstrap = 10000\n",
    "n_data = len(data)\n",
    "\n",
    "# Generate bootstrap samples and calculate the mean for each sample\n",
    "bootstrap_means = []\n",
    "for i in range(n_bootstrap):\n",
    "    bootstrap_sample = np.random.choice(data, size=n_data, replace=True)\n",
    "    bootstrap_means.append(np.mean(bootstrap_sample))\n",
    "\n",
    "# Convert to numpy array and sort the bootstrapped means\n",
    "bootstrap_means = np.sort(np.array(bootstrap_means))\n",
    "\n",
    "# Calculate the 2.5th and 97.5th percentiles for a 95% confidence interval\n",
    "lower_bound = np.percentile(bootstrap_means, 2.5)\n",
    "upper_bound = np.percentile(bootstrap_means, 97.5)\n",
    "\n",
    "# Display the confidence interval\n",
    "confidence_interval = (lower_bound, upper_bound)\n",
    "print(f\"95% Bootstrapped Confidence Interval: {confidence_interval}\")\n"
   ]
  },
  {
   "cell_type": "markdown",
   "id": "33cbe85f",
   "metadata": {},
   "source": [
    "### Procedure"
   ]
  },
  {
   "cell_type": "markdown",
   "id": "6dd87089",
   "metadata": {},
   "source": [
    "#### 1.Generate a large number of bootstrap samples: Using bootstrapping creating large number of samples.(eg.10000)"
   ]
  },
  {
   "cell_type": "markdown",
   "id": "ea187b0a",
   "metadata": {},
   "source": [
    "#### 2.Calculate the Mean for Each Bootstrap Sample"
   ]
  },
  {
   "cell_type": "markdown",
   "id": "f88b58bc",
   "metadata": {},
   "source": [
    "#### 3.Sort the Bootstrapped Means: Sort these means in ascending order."
   ]
  },
  {
   "cell_type": "markdown",
   "id": "c6c82c90",
   "metadata": {},
   "source": [
    "#### 4.Determine the Percentiles for the Confidence Interval:For a 95% confidence interval, you would exclude the outer 5% of the bootstrapped distribution.Specifically, you can find the 2.5th percentile and the 97.5th percentile of the bootstrapped means. These percentiles will form the lower and upper bounds of your 95% confidence interval. "
   ]
  },
  {
   "cell_type": "markdown",
   "id": "e7f514a8",
   "metadata": {},
   "source": [
    "### Reason"
   ]
  },
  {
   "cell_type": "markdown",
   "id": "b4e033df",
   "metadata": {},
   "source": [
    "#### By performing a large number of simulations through bootstrapping, we repeatedly generate new samples and calculate their sample means. These sample means form a distribution that is approximately normal. By sorting these sample means in ascending order and discarding the top and bottom 2.5%, we obtain the 95% confidence interval. Therefore, we can use 'np.quantile'to determine the 2.5th and 97.5th percentiles of the sample means, which will give us the range of the confidence interval."
   ]
  },
  {
   "cell_type": "markdown",
   "id": "a73429c0",
   "metadata": {},
   "source": [
    "### Reason for same sample size"
   ]
  },
  {
   "cell_type": "markdown",
   "id": "ba6ce3af",
   "metadata": {},
   "source": [
    "#### Since we are using bootstrapping to generate the samples, the size of the newly generated samples will be the same as the original dataset (due to the bootstrapping method's setup)."
   ]
  },
  {
   "cell_type": "code",
   "execution_count": 3,
   "id": "a7ee109a",
   "metadata": {},
   "outputs": [
    {
     "name": "stdout",
     "output_type": "stream",
     "text": [
      "\n",
      "    1. Creating a 95% bootstrapped confidence interval without using standard deviation:\n",
      "       - The 95% confidence interval can be constructed by bootstrapping the means of the samples\n",
      "         and using the 2.5th and 97.5th percentiles of the bootstrapped distribution to form the interval.\n",
      "\n",
      "    2. Difference between np.percentile and np.quantile:\n",
      "       - np.percentile uses a percentage scale (0-100) to compute percentiles.\n",
      "       - np.quantile uses a fraction scale (0-1) to compute quantiles.\n",
      "       - Both functions are equivalent, but they take different input formats.\n",
      "\n",
      "    3. Why use np.quantile:\n",
      "       - np.quantile provides a more general approach and works with proportions directly.\n",
      "       - It’s useful when you want to work with quantiles like quartiles, deciles, etc., without converting between percentages and fractions.\n",
      "    \n"
     ]
    }
   ],
   "source": [
    "#Chat summary with ChatGPT\n",
    "def chat_summary():\n",
    "    summary = \"\"\"\n",
    "    1. Creating a 95% bootstrapped confidence interval without using standard deviation:\n",
    "       - The 95% confidence interval can be constructed by bootstrapping the means of the samples\n",
    "         and using the 2.5th and 97.5th percentiles of the bootstrapped distribution to form the interval.\n",
    "\n",
    "    2. Difference between np.percentile and np.quantile:\n",
    "       - np.percentile uses a percentage scale (0-100) to compute percentiles.\n",
    "       - np.quantile uses a fraction scale (0-1) to compute quantiles.\n",
    "       - Both functions are equivalent, but they take different input formats.\n",
    "\n",
    "    3. Why use np.quantile:\n",
    "       - np.quantile provides a more general approach and works with proportions directly.\n",
    "       - It’s useful when you want to work with quantiles like quartiles, deciles, etc., without converting between percentages and fractions.\n",
    "    \"\"\"\n",
    "    return summary\n",
    "\n",
    "# Print the summary of the chat\n",
    "print(chat_summary())"
   ]
  },
  {
   "cell_type": "markdown",
   "id": "22014354",
   "metadata": {},
   "source": [
    "link: https://chatgpt.com/share/66fdb699-b514-800d-b8e3-0430ce39a2cc"
   ]
  },
  {
   "cell_type": "markdown",
   "id": "13f3a907",
   "metadata": {},
   "source": [
    "## Question 4"
   ]
  },
  {
   "cell_type": "code",
   "execution_count": null,
   "id": "81787802",
   "metadata": {},
   "outputs": [],
   "source": [
    "import numpy as np\n",
    "\n",
    "#original data size is 100\n",
    "data = np.random.randn(100)\n",
    "\n",
    "#defines a function that calculates confidence intervals for different statistics using bootstrapping\n",
    "def bootstrap_ci(data, statistic_func, n_bootstrap=10000, confidence_level=0.95):\n",
    "    \"\"\"Generate a bootstrap confidence interval for a given statistic.\"\"\"\n",
    "    #by performing sampling with replacement, new samples are generated.\n",
    "    bootstrap_samples = np.random.choice(data, (n_bootstrap, len(data)), replace=True)\n",
    "    #calculate the statistic for each bootstrap sample\n",
    "    bootstrap_statistics = np.apply_along_axis(statistic_func, axis=1, arr=bootstrap_samples)\n",
    "    \n",
    "    #calculate the percentiles for the confidence interval\n",
    "    lower_percentile = (1 - confidence_level) / 2 * 100\n",
    "    upper_percentile = (1 + confidence_level) / 2 * 100\n",
    "    ci_lower = np.percentile(bootstrap_statistics, lower_percentile)\n",
    "    ci_upper = np.percentile(bootstrap_statistics, upper_percentile)\n",
    "    \n",
    "    return ci_lower, ci_upper\n",
    "\n",
    "#example usage: Bootstrap confidence interval for the population median\n",
    "confidence_interval_median = bootstrap_ci(data, np.median)\n",
    "print(f\"95% Bootstrap Confidence Interval for the Median: {confidence_interval_median}\")\n"
   ]
  },
  {
   "cell_type": "markdown",
   "id": "14cb7aa8",
   "metadata": {},
   "source": [
    "#### This code first specifies that the original dataset size is 100, then defines a function that uses the bootstrapping method to calculate confidence intervals for different statistics. It sets the number of bootstrap samples to 10,000 and the confidence level to 95%. Next, it generates the samples and computes the corresponding statistics for each sample. Finally, it determines the range of the confidence interval using percentiles.（I add some comments to the code above)"
   ]
  },
  {
   "cell_type": "code",
   "execution_count": 5,
   "id": "cd51541d",
   "metadata": {},
   "outputs": [
    {
     "name": "stdout",
     "output_type": "stream",
     "text": [
      "\n",
      "1. Initial Request: You asked for Python code to generate a 95% bootstrap confidence interval for a population parameter (such as the median) and wanted it to be adaptable for other parameters like the mean.\n",
      "\n",
      "2. Code Provided: I gave you a Python function that calculates the bootstrap confidence interval for any statistic (e.g., mean or median). The function takes the data, a statistic function, and outputs the confidence interval.\n",
      "\n",
      "3. Code Flexibility: You asked if the code could work for other parameters like the mean, and I confirmed it works for any statistic by changing the 'statistic_func' argument.\n",
      "\n",
      "4. Explanation Request: You asked for a step-by-step explanation of the code, and I explained how the function works, including the bootstrap sampling process, how the statistic is calculated, and how the confidence intervals are derived.\n",
      "\n"
     ]
    }
   ],
   "source": [
    "#Chat summary with ChatGPT\n",
    "summary = \"\"\"\n",
    "1. Initial Request: You asked for Python code to generate a 95% bootstrap confidence interval for a population parameter (such as the median) and wanted it to be adaptable for other parameters like the mean.\n",
    "\n",
    "2. Code Provided: I gave you a Python function that calculates the bootstrap confidence interval for any statistic (e.g., mean or median). The function takes the data, a statistic function, and outputs the confidence interval.\n",
    "\n",
    "3. Code Flexibility: You asked if the code could work for other parameters like the mean, and I confirmed it works for any statistic by changing the 'statistic_func' argument.\n",
    "\n",
    "4. Explanation Request: You asked for a step-by-step explanation of the code, and I explained how the function works, including the bootstrap sampling process, how the statistic is calculated, and how the confidence intervals are derived.\n",
    "\"\"\"\n",
    "\n",
    "print(summary)"
   ]
  },
  {
   "cell_type": "markdown",
   "id": "3d29921f",
   "metadata": {},
   "source": [
    "link: https://chatgpt.com/share/66fdc4f1-e854-800d-a105-fdb47d97a469"
   ]
  },
  {
   "cell_type": "markdown",
   "id": "afb166df",
   "metadata": {},
   "source": [
    "# Post-lecture HW"
   ]
  },
  {
   "cell_type": "markdown",
   "id": "e7cc1181",
   "metadata": {},
   "source": [
    "## Question 5"
   ]
  },
  {
   "cell_type": "markdown",
   "id": "2e8585c7",
   "metadata": {},
   "source": [
    "#### The reason we need to distinguish between population parameters and sample statistics is that the purpose of a confidence interval is to estimate the population parameter using the sample statistic when the population parameter is unknown. The sample statistic changes with different samples, while the population parameter is a fixed value. Therefore, when calculating a confidence interval, we must remember that we are using the sample statistic."
   ]
  },
  {
   "cell_type": "code",
   "execution_count": 1,
   "id": "3f27f88d",
   "metadata": {},
   "outputs": [
    {
     "name": "stdout",
     "output_type": "stream",
     "text": [
      "\n",
      "    The user asked why it is important to distinguish between the population parameter and the sample statistic when working with confidence intervals. \n",
      "    I explained that the population parameter is the unknown value that needs to be estimated, while the sample statistic is calculated from the data \n",
      "    to provide this estimate. Confidence intervals give a range of plausible values for the population parameter based on the sample statistic.\n",
      "\n",
      "    The user also asked if the main point of confidence intervals is to estimate the population parameter, and I confirmed that their purpose is to \n",
      "    provide a range where the population parameter likely lies.\n",
      "    \n"
     ]
    }
   ],
   "source": [
    "#Chat summary with ChatGPT\n",
    "def chat_summary():\n",
    "    summary = \"\"\"\n",
    "    The user asked why it is important to distinguish between the population parameter and the sample statistic when working with confidence intervals. \n",
    "    I explained that the population parameter is the unknown value that needs to be estimated, while the sample statistic is calculated from the data \n",
    "    to provide this estimate. Confidence intervals give a range of plausible values for the population parameter based on the sample statistic.\n",
    "\n",
    "    The user also asked if the main point of confidence intervals is to estimate the population parameter, and I confirmed that their purpose is to \n",
    "    provide a range where the population parameter likely lies.\n",
    "    \"\"\"\n",
    "    return summary\n",
    "\n",
    "print(chat_summary())"
   ]
  },
  {
   "cell_type": "markdown",
   "id": "9a550ebb",
   "metadata": {},
   "source": [
    "link: https://chatgpt.com/share/66fdef8f-cb98-800d-a8cc-ba0844fe4b9a"
   ]
  },
  {
   "cell_type": "markdown",
   "id": "8a70bcf1",
   "metadata": {},
   "source": [
    "## Question 6"
   ]
  },
  {
   "cell_type": "markdown",
   "id": "5176b3b5",
   "metadata": {},
   "source": [
    "## 6.1"
   ]
  },
  {
   "cell_type": "markdown",
   "id": "90d1585d",
   "metadata": {},
   "source": [
    "#### Bootstrapping is the process of repeatedly drawing samples from a dataset. For example, from a box of candies, you draw 10 pieces each time and calculate the average weight of these 10 candies. After each draw, you return the candies to the box and draw again, then calculate the average again. This process is repeated about 1,000 times. In the end, you obtain information about the overall weight of the candies."
   ]
  },
  {
   "cell_type": "markdown",
   "id": "a438f107",
   "metadata": {},
   "source": [
    "## 6.2"
   ]
  },
  {
   "cell_type": "markdown",
   "id": "95d655eb",
   "metadata": {},
   "source": [
    "#### Bootstrapping can help us make better and more accurate estimates of population parameters using the existing data, without the need for a large amount of new data."
   ]
  },
  {
   "cell_type": "markdown",
   "id": "d06d7afe",
   "metadata": {},
   "source": [
    "## 6.3"
   ]
  },
  {
   "cell_type": "markdown",
   "id": "0c5b0a97",
   "metadata": {},
   "source": [
    "#### Each time, you randomly draw a sample of size n from the original dataset and calculate the average for that sample. Then, you put those n data points back, draw another n, and calculate the average again. You repeat this process many times. Afterward, you check if the population average you guessed appears frequently among these sample averages. If it shows up often, your guess is probably reasonable. If not, your guess might be off."
   ]
  },
  {
   "cell_type": "markdown",
   "id": "9c06eebd",
   "metadata": {},
   "source": [
    "## Question 7"
   ]
  },
  {
   "cell_type": "markdown",
   "id": "b264962a",
   "metadata": {},
   "source": [
    "#### In the video, the null hypothesis is that the drug has no effect. When the confidence interval includes 0, we cannot reject the null hypothesis because the appearance of 0 in the confidence interval means the null hypothesis could possibly occur. Therefore, we can't be certain that the null hypothesis won’t happen. So, we cannot reject the null hypothesis. If the confidence interval does not include 0, then we can reject the null hypothesis because there is no probability that the null hypothesis will occur, meaning the drug has an effect. In simpler terms, if the confidence interval includes 0, it might include the null hypothesis, so we can't reject it; if the confidence interval doesn't include 0, there is a significant effect, and we reject the null hypothesis."
   ]
  },
  {
   "cell_type": "code",
   "execution_count": 1,
   "id": "e11d7526",
   "metadata": {},
   "outputs": [
    {
     "name": "stdout",
     "output_type": "stream",
     "text": [
      "1. Null and Alternative Hypothesis:\n",
      "- Null hypothesis (H0): Assumes no effect or no difference between groups or variables.\n",
      "- Alternative hypothesis (H1): Suggests there is an effect or difference between groups or variables.\n",
      "\n",
      "2. Why can't we reject the null hypothesis when the confidence interval includes 0?\n",
      "- A confidence interval gives a range of plausible values for the population parameter being tested.\n",
      "- If the confidence interval includes 0, it means that 0 is a plausible value for the parameter.\n",
      "- This implies there could be no effect or no difference, supporting the null hypothesis.\n",
      "- Therefore, we cannot reject the null hypothesis because 0 is a possible value,\n",
      "  indicating there is insufficient evidence to show a significant difference.\n"
     ]
    }
   ],
   "source": [
    "#Chat summary with ChatGPT\n",
    "\n",
    "# 1. Null and Alternative Hypothesis:\n",
    "print(\"1. Null and Alternative Hypothesis:\")\n",
    "print(\"- Null hypothesis (H0): Assumes no effect or no difference between groups or variables.\")\n",
    "print(\"- Alternative hypothesis (H1): Suggests there is an effect or difference between groups or variables.\\n\")\n",
    "\n",
    "# 2. Why can't we reject the null hypothesis when the confidence interval includes 0?\n",
    "print(\"2. Why can't we reject the null hypothesis when the confidence interval includes 0?\")\n",
    "print(\"- A confidence interval gives a range of plausible values for the population parameter being tested.\")\n",
    "print(\"- If the confidence interval includes 0, it means that 0 is a plausible value for the parameter.\")\n",
    "print(\"- This implies there could be no effect or no difference, supporting the null hypothesis.\")\n",
    "print(\"- Therefore, we cannot reject the null hypothesis because 0 is a possible value,\")\n",
    "print(\"  indicating there is insufficient evidence to show a significant difference.\")"
   ]
  },
  {
   "cell_type": "markdown",
   "id": "b1c8bbd6",
   "metadata": {},
   "source": [
    "link: https://chatgpt.com/share/66fe15b7-1904-800d-9808-5357319d89e0"
   ]
  },
  {
   "cell_type": "markdown",
   "id": "608a7e90",
   "metadata": {},
   "source": [
    "## Question 8"
   ]
  },
  {
   "cell_type": "markdown",
   "id": "fc159689",
   "metadata": {},
   "source": [
    "### The company AliTech has created a new vaccine that aims to improve the health of the people who take it.The following data is a report on the effects of the vaccine on the health conditions of some patients.We set the null hypothesis that these vaccines have no effect on the health of the patients, which is the difference between initial and final health scores equals to 0."
   ]
  },
  {
   "cell_type": "code",
   "execution_count": null,
   "id": "146ed5cf",
   "metadata": {},
   "outputs": [],
   "source": [
    "import pandas as pd\n",
    "\n",
    "# Create a DataFrame with the provided data\n",
    "data = {\n",
    "    'PatientID': [1, 2, 3, 4, 5, 6, 7, 8, 9, 10],\n",
    "    'Age': [45, 34, 29, 52, 37, 41, 33, 48, 26, 39],\n",
    "    'Gender': ['M', 'F', 'M', 'F', 'M', 'F', 'M', 'F', 'M', 'F'],\n",
    "    'InitialHealthScore': [84, 78, 83, 81, 81, 80, 79, 85, 76, 83],\n",
    "    'FinalHealthScore': [86, 86, 80, 86, 84, 86, 86, 82, 83, 84]\n",
    "}\n",
    "\n",
    "# Create the DataFrame\n",
    "df = pd.DataFrame(data)\n",
    "\n",
    "# Save the DataFrame to a CSV file\n",
    "csv_file_path = '/mnt/data/patient_health_scores.csv'\n",
    "df.to_csv(csv_file_path, index=False)\n",
    "\n",
    "csv_file_path"
   ]
  },
  {
   "cell_type": "code",
   "execution_count": 9,
   "id": "15e3363f",
   "metadata": {},
   "outputs": [
    {
     "data": {
      "image/png": "[encoded data removed]",
      "text/plain": [
       "<Figure size 1000x600 with 1 Axes>"
      ]
     },
     "metadata": {},
     "output_type": "display_data"
    }
   ],
   "source": [
    "import matplotlib.pyplot as plt\n",
    "import pandas as pd\n",
    "\n",
    "# Create a bar plot comparing Initial and Final Health Scores for each patient\n",
    "df.plot(x='PatientID', y=['InitialHealthScore', 'FinalHealthScore'], kind='bar', figsize=(10, 6))\n",
    "\n",
    "# Adding labels and title\n",
    "plt.xlabel('Patient ID')\n",
    "plt.ylabel('Health Score')\n",
    "plt.title('Comparison of Initial and Final Health Scores')\n",
    "\n",
    "# Show the plot\n",
    "plt.tight_layout()\n",
    "plt.show()\n"
   ]
  },
  {
   "cell_type": "markdown",
   "id": "919b028d",
   "metadata": {},
   "source": [
    "## Distribution of Difference between Initial and Final Health Scores"
   ]
  },
  {
   "cell_type": "code",
   "execution_count": 10,
   "id": "a59e17b4",
   "metadata": {},
   "outputs": [
    {
     "data": {
      "image/png": "[encoded data removed]",
      "text/plain": [
       "<Figure size 800x600 with 1 Axes>"
      ]
     },
     "metadata": {},
     "output_type": "display_data"
    }
   ],
   "source": [
    "import numpy as np\n",
    "import matplotlib.pyplot as plt\n",
    "\n",
    "# Function to perform bootstrapping\n",
    "def bootstrap_diff_means(data, num_bootstrap=1000):\n",
    "    bootstrapped_diffs = []\n",
    "    \n",
    "    for _ in range(num_bootstrap):\n",
    "        # Resample the data with replacement\n",
    "        resample = data.sample(frac=1, replace=True)\n",
    "        \n",
    "        # Calculate the mean of initial and final health scores\n",
    "        mean_initial = resample['InitialHealthScore'].mean()\n",
    "        mean_final = resample['FinalHealthScore'].mean()\n",
    "        \n",
    "        # Calculate the difference and store it\n",
    "        diff = mean_final - mean_initial\n",
    "        bootstrapped_diffs.append(diff)\n",
    "    \n",
    "    return bootstrapped_diffs\n",
    "\n",
    "# Perform bootstrapping\n",
    "bootstrapped_diffs = bootstrap_diff_means(df)\n",
    "\n",
    "# Plot the distribution of bootstrapped differences\n",
    "plt.figure(figsize=(8, 6))\n",
    "sns.histplot(bootstrapped_diffs, kde=True, color='purple')\n",
    "plt.title('Bootstrapped Distribution of Differences Between Final and Initial Health Scores')\n",
    "plt.xlabel('Difference (Final Health Score - Initial Health Score)')\n",
    "plt.ylabel('Frequency')\n",
    "\n",
    "# Show the plot\n",
    "plt.tight_layout()\n",
    "plt.show()\n"
   ]
  },
  {
   "cell_type": "markdown",
   "id": "bee21a3a",
   "metadata": {},
   "source": [
    "## Calculating 95% confidence interval for difference between initial and final health scores"
   ]
  },
  {
   "cell_type": "code",
   "execution_count": 11,
   "id": "1239585e",
   "metadata": {},
   "outputs": [
    {
     "data": {
      "text/plain": [
       "array([0.8, 5.6])"
      ]
     },
     "execution_count": 11,
     "metadata": {},
     "output_type": "execute_result"
    }
   ],
   "source": [
    "import numpy as np\n",
    "import pandas as pd\n",
    "\n",
    "# Function to perform bootstrapping and calculate differences in means\n",
    "def bootstrap_diff_means(data, num_bootstrap=1000):\n",
    "    bootstrapped_diffs = []\n",
    "    \n",
    "    for _ in range(num_bootstrap):\n",
    "        # Resample the data with replacement\n",
    "        resample = data.sample(frac=1, replace=True)\n",
    "        \n",
    "        # Calculate the mean of initial and final health scores\n",
    "        mean_initial = resample['InitialHealthScore'].mean()\n",
    "        mean_final = resample['FinalHealthScore'].mean()\n",
    "        \n",
    "        # Calculate the difference and store it\n",
    "        diff = mean_final - mean_initial\n",
    "        bootstrapped_diffs.append(diff)\n",
    "    \n",
    "    return np.array(bootstrapped_diffs)\n",
    "\n",
    "# Perform bootstrapping\n",
    "bootstrapped_diffs = bootstrap_diff_means(df)\n",
    "\n",
    "# Calculate the 95% confidence interval (2.5th and 97.5th percentiles)\n",
    "confidence_interval = np.percentile(bootstrapped_diffs, [2.5, 97.5])\n",
    "\n",
    "# Display the confidence interval\n",
    "confidence_interval\n"
   ]
  },
  {
   "cell_type": "markdown",
   "id": "040b0a72",
   "metadata": {},
   "source": [
    "### The above code is used to calculate the 95% confidence interval. By using bootstrapping, we first perform multiple random samplings of the initial health values and final health values, calculate their means, and then obtain a set of data representing the differences in the average values between the initial and final health values. According to the central limit theorem, this mean should follow a normal distribution, as shown in the figure, which confirms the hypothesis. Then, by using the 2.5th and 97.5th percentiles, we calculate the range of the 95% confidence interval: [0.8, 5.6]."
   ]
  },
  {
   "cell_type": "markdown",
   "id": "7ccb5b91",
   "metadata": {},
   "source": [
    "### Through the confidence interval, we can see that this range does not include 0, which means we can reject the null hypothesis. Therefore, the vaccine has a positive effect on the patients."
   ]
  },
  {
   "cell_type": "code",
   "execution_count": 13,
   "id": "50f46539",
   "metadata": {},
   "outputs": [
    {
     "name": "stdout",
     "output_type": "stream",
     "text": [
      "\n",
      "1. CSV Data Generation: \n",
      "You provided data about patients (including age, gender, initial health score, and final health score), and I generated a CSV file containing that data.\n",
      "\n",
      "2. Data Visualization: \n",
      "You requested code to visualize the dataset. I provided Python code using matplotlib and seaborn to create histograms of age, initial health scores, final health scores, and a bar plot comparing initial and final health scores by gender.\n",
      "\n",
      "3. FileNotFoundError Handling: \n",
      "There was an issue with loading the CSV file. After identifying the correct working directory, I processed the dataset directly in memory and showed the visualizations.\n",
      "\n",
      "4. Comparing Initial and Final Health Scores: \n",
      "You asked for a graph comparing the initial and final health scores. I provided code for both a line plot and a bar plot to show the comparison.\n",
      "\n",
      "5. Bootstrapping Visualization: \n",
      "You requested a graph using bootstrapping to show the difference between initial and final health scores. I provided Python code that performs bootstrapping and visualizes the distribution of differences.\n",
      "\n",
      "6. 95% Confidence Interval Calculation: \n",
      "You asked for code to calculate the 95% confidence interval for the difference between initial and final health scores. I provided a Python code that uses bootstrapping to calculate the confidence interval.\n",
      "\n"
     ]
    }
   ],
   "source": [
    "#Chat summary with ChatGPT\n",
    "\n",
    "chatlog = \"\"\"\n",
    "1. CSV Data Generation: \n",
    "You provided data about patients (including age, gender, initial health score, and final health score), and I generated a CSV file containing that data.\n",
    "\n",
    "2. Data Visualization: \n",
    "You requested code to visualize the dataset. I provided Python code using matplotlib and seaborn to create histograms of age, initial health scores, final health scores, and a bar plot comparing initial and final health scores by gender.\n",
    "\n",
    "3. FileNotFoundError Handling: \n",
    "There was an issue with loading the CSV file. After identifying the correct working directory, I processed the dataset directly in memory and showed the visualizations.\n",
    "\n",
    "4. Comparing Initial and Final Health Scores: \n",
    "You asked for a graph comparing the initial and final health scores. I provided code for both a line plot and a bar plot to show the comparison.\n",
    "\n",
    "5. Bootstrapping Visualization: \n",
    "You requested a graph using bootstrapping to show the difference between initial and final health scores. I provided Python code that performs bootstrapping and visualizes the distribution of differences.\n",
    "\n",
    "6. 95% Confidence Interval Calculation: \n",
    "You asked for code to calculate the 95% confidence interval for the difference between initial and final health scores. I provided a Python code that uses bootstrapping to calculate the confidence interval.\n",
    "\"\"\"\n",
    "print(chatlog)"
   ]
  },
  {
   "cell_type": "markdown",
   "id": "bda4af7c",
   "metadata": {},
   "source": [
    "link: https://chatgpt.com/share/66fe3644-4424-800d-8602-4e6f99719ca3"
   ]
  },
  {
   "cell_type": "markdown",
   "id": "159e58b6",
   "metadata": {},
   "source": [
    "## Question 9"
   ]
  },
  {
   "cell_type": "markdown",
   "id": "8bccfdd3",
   "metadata": {},
   "source": [
    "### Yes"
   ]
  }
 ],
 "metadata": {
  "kernelspec": {
   "display_name": "Python 3 (ipykernel)",
   "language": "python",
   "name": "python3"
  },
  "language_info": {
   "codemirror_mode": {
    "name": "ipython",
    "version": 3
   },
   "file_extension": ".py",
   "mimetype": "text/x-python",
   "name": "python",
   "nbconvert_exporter": "python",
   "pygments_lexer": "ipython3",
   "version": "3.11.6"
  }
 },
 "nbformat": 4,
 "nbformat_minor": 5
}
